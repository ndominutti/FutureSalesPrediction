{
 "cells": [
  {
   "cell_type": "code",
   "execution_count": 118,
   "metadata": {},
   "outputs": [],
   "source": [
    "#!pip install pandas_profiling"
   ]
  },
  {
   "cell_type": "code",
   "execution_count": 119,
   "metadata": {
    "id": "4atjwtZ-R6_J"
   },
   "outputs": [],
   "source": [
    "import pandas as pd\n",
    "import numpy as np\n",
    "import matplotlib.pyplot as plt\n",
    "import seaborn as sns\n",
    "from pandas_profiling import ProfileReport\n",
    "#Warnings\n",
    "import warnings\n",
    "warnings.filterwarnings(action='ignore') # Ignore warning message\n",
    "sns.set_style(\"darkgrid\")"
   ]
  },
  {
   "cell_type": "code",
   "execution_count": 120,
   "metadata": {
    "id": "MEQpTPcQR6_O"
   },
   "outputs": [],
   "source": [
    "data_path = '..\\\\Data\\\\'\n",
    "# Read all files\n",
    "sales            = pd.read_csv(data_path + 'sales_train.csv')\n",
    "items            = pd.read_csv(data_path + 'items.csv')\n",
    "item_categories  = pd.read_csv(data_path + 'item_categories_translated.csv')\n",
    "shops            = pd.read_csv(data_path + 'shops_translated.csv')\n",
    "test             = pd.read_csv(data_path + 'test.csv')\n",
    "\n",
    "#Item_categories and Shops dfs are translated from the original russian files. \n",
    "#Translations are performed in Preprocessing/Translate.ipynb "
   ]
  },
  {
   "cell_type": "markdown",
   "metadata": {
    "id": "hVWvEyxSR6_Q"
   },
   "source": [
    "OBJETIVE: predict test.csv (data from November 2015)\n",
    "\n",
    "* ID - an Id that represents a (Shop, Item) tuple within the test set\n",
    "* shop_id - unique identifier of a shop\n",
    "* item_id - unique identifier of a product\n",
    "* item_category_id - unique identifier of item category\n",
    "* item_cnt_day - number of products sold. You are predicting a monthly amount of this measure\n",
    "* item_price - current price of an item\n",
    "* date - date in format dd/mm/yyyy\n",
    "* date_block_num - a consecutive month number, used for convenience. January 2013 is 0, February 2013 is 1,..., October 2015 is 33\n",
    "* item_name - name of item\n",
    "* shop_name - name of shop\n",
    "* item_category_name - name of item category\n"
   ]
  },
  {
   "cell_type": "markdown",
   "metadata": {},
   "source": [
    "# Sales"
   ]
  },
  {
   "cell_type": "code",
   "execution_count": 121,
   "metadata": {
    "id": "LZKJhp3DR6_S",
    "outputId": "5ae88a61-88cc-4c5f-9406-755bea1ff819"
   },
   "outputs": [
    {
     "data": {
      "text/html": [
       "<div>\n",
       "<style scoped>\n",
       "    .dataframe tbody tr th:only-of-type {\n",
       "        vertical-align: middle;\n",
       "    }\n",
       "\n",
       "    .dataframe tbody tr th {\n",
       "        vertical-align: top;\n",
       "    }\n",
       "\n",
       "    .dataframe thead th {\n",
       "        text-align: right;\n",
       "    }\n",
       "</style>\n",
       "<table border=\"1\" class=\"dataframe\">\n",
       "  <thead>\n",
       "    <tr style=\"text-align: right;\">\n",
       "      <th></th>\n",
       "      <th>date</th>\n",
       "      <th>date_block_num</th>\n",
       "      <th>shop_id</th>\n",
       "      <th>item_id</th>\n",
       "      <th>item_price</th>\n",
       "      <th>item_cnt_day</th>\n",
       "    </tr>\n",
       "  </thead>\n",
       "  <tbody>\n",
       "    <tr>\n",
       "      <th>0</th>\n",
       "      <td>02.01.2013</td>\n",
       "      <td>0</td>\n",
       "      <td>59</td>\n",
       "      <td>22154</td>\n",
       "      <td>999.00</td>\n",
       "      <td>1.0</td>\n",
       "    </tr>\n",
       "    <tr>\n",
       "      <th>1</th>\n",
       "      <td>03.01.2013</td>\n",
       "      <td>0</td>\n",
       "      <td>25</td>\n",
       "      <td>2552</td>\n",
       "      <td>899.00</td>\n",
       "      <td>1.0</td>\n",
       "    </tr>\n",
       "    <tr>\n",
       "      <th>2</th>\n",
       "      <td>05.01.2013</td>\n",
       "      <td>0</td>\n",
       "      <td>25</td>\n",
       "      <td>2552</td>\n",
       "      <td>899.00</td>\n",
       "      <td>-1.0</td>\n",
       "    </tr>\n",
       "    <tr>\n",
       "      <th>3</th>\n",
       "      <td>06.01.2013</td>\n",
       "      <td>0</td>\n",
       "      <td>25</td>\n",
       "      <td>2554</td>\n",
       "      <td>1709.05</td>\n",
       "      <td>1.0</td>\n",
       "    </tr>\n",
       "    <tr>\n",
       "      <th>4</th>\n",
       "      <td>15.01.2013</td>\n",
       "      <td>0</td>\n",
       "      <td>25</td>\n",
       "      <td>2555</td>\n",
       "      <td>1099.00</td>\n",
       "      <td>1.0</td>\n",
       "    </tr>\n",
       "  </tbody>\n",
       "</table>\n",
       "</div>"
      ],
      "text/plain": [
       "         date  date_block_num  shop_id  item_id  item_price  item_cnt_day\n",
       "0  02.01.2013               0       59    22154      999.00           1.0\n",
       "1  03.01.2013               0       25     2552      899.00           1.0\n",
       "2  05.01.2013               0       25     2552      899.00          -1.0\n",
       "3  06.01.2013               0       25     2554     1709.05           1.0\n",
       "4  15.01.2013               0       25     2555     1099.00           1.0"
      ]
     },
     "execution_count": 121,
     "metadata": {},
     "output_type": "execute_result"
    }
   ],
   "source": [
    "sales.head()"
   ]
  },
  {
   "cell_type": "code",
   "execution_count": 122,
   "metadata": {},
   "outputs": [
    {
     "data": {
      "text/plain": [
       "Text(0.5, 1.0, 'Item price')"
      ]
     },
     "execution_count": 122,
     "metadata": {},
     "output_type": "execute_result"
    },
    {
     "data": {
      "image/png": "[encoded data removed]",
      "text/plain": [
       "<Figure size 1440x288 with 2 Axes>"
      ]
     },
     "metadata": {},
     "output_type": "display_data"
    }
   ],
   "source": [
    "plt.figure(figsize=(20,4))\n",
    "plt.subplot(1,2,1)\n",
    "sns.boxplot(sales.item_cnt_day.value_counts())\n",
    "plt.title(\"Item cnt day\")\n",
    "plt.subplot(1,2,2)\n",
    "sns.boxplot(sales.item_price.value_counts())\n",
    "plt.title(\"Item price\")"
   ]
  },
  {
   "cell_type": "code",
   "execution_count": 123,
   "metadata": {},
   "outputs": [
    {
     "name": "stdout",
     "output_type": "stream",
     "text": [
      "Min item_cnt_day: -22.0 | Max item_cnt_day: 2169.0\n",
      "Min price: -1.0         | Max price: 307980.0\n"
     ]
    }
   ],
   "source": [
    "print(f\"Min item_cnt_day: {sales.item_cnt_day.min()} | Max item_cnt_day: {sales.item_cnt_day.max()}\")\n",
    "print(f\"Min price: {sales.item_price.min()}         | Max price: {sales.item_price.max()}\")"
   ]
  },
  {
   "cell_type": "markdown",
   "metadata": {},
   "source": [
    "* We have some outliers on target and on price"
   ]
  },
  {
   "cell_type": "code",
   "execution_count": 124,
   "metadata": {},
   "outputs": [
    {
     "name": "stdout",
     "output_type": "stream",
     "text": [
      "0 quantile item_cnt_day: 1.0 | 0.999 quantile item_cnt_day: 22.0\n",
      "0 quantile price: 5.0         | 0.999 quantile price: 23990.0\n"
     ]
    }
   ],
   "source": [
    "print(f\"0 quantile item_cnt_day: {np.quantile(sales.item_cnt_day,0.01)} | 0.999 quantile item_cnt_day: {np.quantile(sales.item_cnt_day,0.999)}\")\n",
    "print(f\"0 quantile price: {np.quantile(sales.item_price,0.01)}         | 0.999 quantile price: {np.quantile(sales.item_price,0.999)}\")"
   ]
  },
  {
   "cell_type": "code",
   "execution_count": 140,
   "metadata": {},
   "outputs": [
    {
     "data": {
      "text/plain": [
       "0.1"
      ]
     },
     "execution_count": 140,
     "metadata": {},
     "output_type": "execute_result"
    }
   ],
   "source": [
    "round(sales[sales.item_price>24000].shape[0]/sales.shape[0],4)*100"
   ]
  },
  {
   "cell_type": "code",
   "execution_count": 157,
   "metadata": {},
   "outputs": [
    {
     "name": "stdout",
     "output_type": "stream",
     "text": [
      "Lower outliers item_cnt_day: 7356 > 0.25% of total DF \n",
      "Upper outliers item_cnt_day: 1\n",
      "------------------------------------------------------------\n",
      "Lower outliers price: 1 \n",
      "Upper outliers price: 3 > 0.0% of total DF\n"
     ]
    }
   ],
   "source": [
    "print(f\"Lower outliers item_cnt_day: {sales[sales.item_cnt_day<0].shape[0]} > \\\n",
    "{round(sales[sales.item_cnt_day<0].shape[0]/sales.shape[0],4)*100}% of total DF \\n\\\n",
    "Upper outliers item_cnt_day: {sales[sales.item_cnt_day>1000].shape[0]}\")\n",
    "print(\"-\"*60)\n",
    "print(f\"Lower outliers price: {sales[sales.item_price<=0].shape[0]} \\n\\\n",
    "Upper outliers price: {sales[sales.item_price>50000].shape[0]} > \\\n",
    "{round(sales[sales.item_price>50000].shape[0]/sales.shape[0],4)*100}% of total DF\")"
   ]
  },
  {
   "cell_type": "markdown",
   "metadata": {},
   "source": [
    "* Target values are concentrated in [0,20] range"
   ]
  },
  {
   "cell_type": "code",
   "execution_count": 72,
   "metadata": {},
   "outputs": [],
   "source": [
    "sales = sales[(sales['item_price'] > 0) & (sales['item_price'] < 50000)]\n",
    "sales = sales[(sales['item_cnt_day'] > 0) & (sales['item_cnt_day'] < 1000)]"
   ]
  },
  {
   "cell_type": "code",
   "execution_count": 161,
   "metadata": {},
   "outputs": [
    {
     "data": {
      "text/plain": [
       "Text(0.5, 1.0, 'Log Item price')"
      ]
     },
     "execution_count": 161,
     "metadata": {},
     "output_type": "execute_result"
    },
    {
     "data": {
      "image/png": "[encoded data removed]",
      "text/plain": [
       "<Figure size 1440x288 with 1 Axes>"
      ]
     },
     "metadata": {},
     "output_type": "display_data"
    }
   ],
   "source": [
    "plt.figure(figsize=(20,4))\n",
    "sns.distplot(np.log(sales.item_price.value_counts()))\n",
    "plt.title(\"Log Item price\")"
   ]
  },
  {
   "cell_type": "code",
   "execution_count": 162,
   "metadata": {},
   "outputs": [
    {
     "data": {
      "text/plain": [
       "Text(0.5, 1.0, 'Log Item cnt day')"
      ]
     },
     "execution_count": 162,
     "metadata": {},
     "output_type": "execute_result"
    },
    {
     "data": {
      "image/png": "[encoded data removed]",
      "text/plain": [
       "<Figure size 1440x288 with 1 Axes>"
      ]
     },
     "metadata": {},
     "output_type": "display_data"
    }
   ],
   "source": [
    "plt.figure(figsize=(20,4))\n",
    "sns.distplot(np.log(sales.item_cnt_day.value_counts()))\n",
    "plt.title(\"Log Item cnt day\")"
   ]
  },
  {
   "cell_type": "markdown",
   "metadata": {},
   "source": [
    "# Item Categories"
   ]
  },
  {
   "cell_type": "code",
   "execution_count": 31,
   "metadata": {
    "id": "3hIwJzbZR6_e",
    "outputId": "6f0f4f16-2528-49a0-fce1-153867fc5a3b"
   },
   "outputs": [
    {
     "data": {
      "text/html": [
       "<div>\n",
       "<style scoped>\n",
       "    .dataframe tbody tr th:only-of-type {\n",
       "        vertical-align: middle;\n",
       "    }\n",
       "\n",
       "    .dataframe tbody tr th {\n",
       "        vertical-align: top;\n",
       "    }\n",
       "\n",
       "    .dataframe thead th {\n",
       "        text-align: right;\n",
       "    }\n",
       "</style>\n",
       "<table border=\"1\" class=\"dataframe\">\n",
       "  <thead>\n",
       "    <tr style=\"text-align: right;\">\n",
       "      <th></th>\n",
       "      <th>Unnamed: 0</th>\n",
       "      <th>item_category_name</th>\n",
       "      <th>item_category_id</th>\n",
       "    </tr>\n",
       "  </thead>\n",
       "  <tbody>\n",
       "    <tr>\n",
       "      <th>0</th>\n",
       "      <td>0</td>\n",
       "      <td>PC - Headset / Headphones</td>\n",
       "      <td>0</td>\n",
       "    </tr>\n",
       "    <tr>\n",
       "      <th>1</th>\n",
       "      <td>1</td>\n",
       "      <td>Accessories - PS2.</td>\n",
       "      <td>1</td>\n",
       "    </tr>\n",
       "    <tr>\n",
       "      <th>2</th>\n",
       "      <td>2</td>\n",
       "      <td>Accessories - PS3</td>\n",
       "      <td>2</td>\n",
       "    </tr>\n",
       "    <tr>\n",
       "      <th>3</th>\n",
       "      <td>3</td>\n",
       "      <td>Accessories - PS4.</td>\n",
       "      <td>3</td>\n",
       "    </tr>\n",
       "    <tr>\n",
       "      <th>4</th>\n",
       "      <td>4</td>\n",
       "      <td>Accessories - PSP.</td>\n",
       "      <td>4</td>\n",
       "    </tr>\n",
       "  </tbody>\n",
       "</table>\n",
       "</div>"
      ],
      "text/plain": [
       "   Unnamed: 0         item_category_name  item_category_id\n",
       "0           0  PC - Headset / Headphones                 0\n",
       "1           1         Accessories - PS2.                 1\n",
       "2           2          Accessories - PS3                 2\n",
       "3           3         Accessories - PS4.                 3\n",
       "4           4         Accessories - PSP.                 4"
      ]
     },
     "execution_count": 31,
     "metadata": {},
     "output_type": "execute_result"
    }
   ],
   "source": [
    "item_categories.head()"
   ]
  },
  {
   "cell_type": "code",
   "execution_count": 173,
   "metadata": {},
   "outputs": [
    {
     "name": "stdout",
     "output_type": "stream",
     "text": [
      "\n",
      "Item_category_name unique values: 84\n",
      "\n"
     ]
    },
    {
     "data": {
      "text/plain": [
       "(None, array(['PC - Headset / Headphones', 'Accessories - PS2.',\n",
       "        'Accessories - PS3', 'Accessories - PS4.', 'Accessories - PSP.',\n",
       "        'Accessories - Psvita.', 'Accessories - Xbox 360',\n",
       "        'Accessories - Xbox One', 'Tickets (digit)', 'Delivery of goods',\n",
       "        'Gaming Consoles - PS2', 'Gaming Consoles - PS3',\n",
       "        'Gaming Consoles - PS4', 'Gaming Consoles - PSP',\n",
       "        'Gaming Consoles - Psvita', 'Gaming Consoles - Xbox 360',\n",
       "        'Gaming Consoles - Xbox One', 'Gaming consoles - Other',\n",
       "        'Games - PS2.', 'Games - PS3'], dtype=object))"
      ]
     },
     "execution_count": 173,
     "metadata": {},
     "output_type": "execute_result"
    }
   ],
   "source": [
    "print(f\"\\nItem_category_name unique values: \\\n",
    "{item_categories.item_category_name.nunique()}\\n\"), item_categories.item_category_name.unique()[:20]"
   ]
  },
  {
   "cell_type": "markdown",
   "metadata": {},
   "source": [
    "* Seems we can create a \"major\" level to aggregate some categories"
   ]
  },
  {
   "cell_type": "markdown",
   "metadata": {},
   "source": [
    "# Items"
   ]
  },
  {
   "cell_type": "code",
   "execution_count": 174,
   "metadata": {
    "id": "k_kkxxtAR6_m",
    "outputId": "9bf62f15-2f63-4e66-96c0-4ec49d183657"
   },
   "outputs": [
    {
     "data": {
      "text/html": [
       "<div>\n",
       "<style scoped>\n",
       "    .dataframe tbody tr th:only-of-type {\n",
       "        vertical-align: middle;\n",
       "    }\n",
       "\n",
       "    .dataframe tbody tr th {\n",
       "        vertical-align: top;\n",
       "    }\n",
       "\n",
       "    .dataframe thead th {\n",
       "        text-align: right;\n",
       "    }\n",
       "</style>\n",
       "<table border=\"1\" class=\"dataframe\">\n",
       "  <thead>\n",
       "    <tr style=\"text-align: right;\">\n",
       "      <th></th>\n",
       "      <th>item_name</th>\n",
       "      <th>item_id</th>\n",
       "      <th>item_category_id</th>\n",
       "    </tr>\n",
       "  </thead>\n",
       "  <tbody>\n",
       "    <tr>\n",
       "      <th>0</th>\n",
       "      <td>! ВО ВЛАСТИ НАВАЖДЕНИЯ (ПЛАСТ.)         D</td>\n",
       "      <td>0</td>\n",
       "      <td>40</td>\n",
       "    </tr>\n",
       "    <tr>\n",
       "      <th>1</th>\n",
       "      <td>!ABBYY FineReader 12 Professional Edition Full...</td>\n",
       "      <td>1</td>\n",
       "      <td>76</td>\n",
       "    </tr>\n",
       "    <tr>\n",
       "      <th>2</th>\n",
       "      <td>***В ЛУЧАХ СЛАВЫ   (UNV)                    D</td>\n",
       "      <td>2</td>\n",
       "      <td>40</td>\n",
       "    </tr>\n",
       "    <tr>\n",
       "      <th>3</th>\n",
       "      <td>***ГОЛУБАЯ ВОЛНА  (Univ)                      D</td>\n",
       "      <td>3</td>\n",
       "      <td>40</td>\n",
       "    </tr>\n",
       "    <tr>\n",
       "      <th>4</th>\n",
       "      <td>***КОРОБКА (СТЕКЛО)                       D</td>\n",
       "      <td>4</td>\n",
       "      <td>40</td>\n",
       "    </tr>\n",
       "  </tbody>\n",
       "</table>\n",
       "</div>"
      ],
      "text/plain": [
       "                                           item_name  item_id  \\\n",
       "0          ! ВО ВЛАСТИ НАВАЖДЕНИЯ (ПЛАСТ.)         D        0   \n",
       "1  !ABBYY FineReader 12 Professional Edition Full...        1   \n",
       "2      ***В ЛУЧАХ СЛАВЫ   (UNV)                    D        2   \n",
       "3    ***ГОЛУБАЯ ВОЛНА  (Univ)                      D        3   \n",
       "4        ***КОРОБКА (СТЕКЛО)                       D        4   \n",
       "\n",
       "   item_category_id  \n",
       "0                40  \n",
       "1                76  \n",
       "2                40  \n",
       "3                40  \n",
       "4                40  "
      ]
     },
     "execution_count": 174,
     "metadata": {},
     "output_type": "execute_result"
    }
   ],
   "source": [
    "items.head()"
   ]
  },
  {
   "cell_type": "code",
   "execution_count": 179,
   "metadata": {},
   "outputs": [
    {
     "name": "stdout",
     "output_type": "stream",
     "text": [
      "\n",
      "Items unique values: 22170\n",
      "\n"
     ]
    }
   ],
   "source": [
    "print(f\"\\nItems unique values: {items.item_id.nunique()}\\n\")"
   ]
  },
  {
   "cell_type": "code",
   "execution_count": 185,
   "metadata": {},
   "outputs": [
    {
     "data": {
      "text/plain": [
       "item_id\n",
       "0            1\n",
       "7217         1\n",
       "7219         1\n",
       "7222         1\n",
       "7234         1\n",
       "         ...  \n",
       "4181      6853\n",
       "2808      7479\n",
       "17717     9067\n",
       "5822      9408\n",
       "20949    31340\n",
       "Length: 21807, dtype: int64"
      ]
     },
     "execution_count": 185,
     "metadata": {},
     "output_type": "execute_result"
    }
   ],
   "source": [
    "sales.groupby(\"item_id\").size().sort_values()"
   ]
  },
  {
   "cell_type": "markdown",
   "metadata": {
    "id": "sCWHef5GR6_n"
   },
   "source": [
    "* We have several items that only have one appearence in Train set"
   ]
  },
  {
   "cell_type": "markdown",
   "metadata": {
    "id": "GW5tQoB9R6_o"
   },
   "source": [
    "# SHOPS"
   ]
  },
  {
   "cell_type": "code",
   "execution_count": 5,
   "metadata": {
    "id": "ydNL5L39R6_r"
   },
   "outputs": [
    {
     "data": {
      "text/html": [
       "<div>\n",
       "<style scoped>\n",
       "    .dataframe tbody tr th:only-of-type {\n",
       "        vertical-align: middle;\n",
       "    }\n",
       "\n",
       "    .dataframe tbody tr th {\n",
       "        vertical-align: top;\n",
       "    }\n",
       "\n",
       "    .dataframe thead th {\n",
       "        text-align: right;\n",
       "    }\n",
       "</style>\n",
       "<table border=\"1\" class=\"dataframe\">\n",
       "  <thead>\n",
       "    <tr style=\"text-align: right;\">\n",
       "      <th></th>\n",
       "      <th>Unnamed: 0</th>\n",
       "      <th>shop_name</th>\n",
       "      <th>shop_id</th>\n",
       "    </tr>\n",
       "  </thead>\n",
       "  <tbody>\n",
       "    <tr>\n",
       "      <th>0</th>\n",
       "      <td>0</td>\n",
       "      <td>! Yakutsk Ordzhonikidze, 56 fran</td>\n",
       "      <td>0</td>\n",
       "    </tr>\n",
       "    <tr>\n",
       "      <th>1</th>\n",
       "      <td>1</td>\n",
       "      <td>! Yakutsk shopping center \"Central\" Fran</td>\n",
       "      <td>1</td>\n",
       "    </tr>\n",
       "    <tr>\n",
       "      <th>2</th>\n",
       "      <td>2</td>\n",
       "      <td>Adygea shopping center \"Mega\"</td>\n",
       "      <td>2</td>\n",
       "    </tr>\n",
       "    <tr>\n",
       "      <th>3</th>\n",
       "      <td>3</td>\n",
       "      <td>Balashiha TRK \"October-Kinomir\"</td>\n",
       "      <td>3</td>\n",
       "    </tr>\n",
       "    <tr>\n",
       "      <th>4</th>\n",
       "      <td>4</td>\n",
       "      <td>Volzhsky shopping center \"Volga Mall\"</td>\n",
       "      <td>4</td>\n",
       "    </tr>\n",
       "  </tbody>\n",
       "</table>\n",
       "</div>"
      ],
      "text/plain": [
       "   Unnamed: 0                                 shop_name  shop_id\n",
       "0           0          ! Yakutsk Ordzhonikidze, 56 fran        0\n",
       "1           1  ! Yakutsk shopping center \"Central\" Fran        1\n",
       "2           2             Adygea shopping center \"Mega\"        2\n",
       "3           3           Balashiha TRK \"October-Kinomir\"        3\n",
       "4           4     Volzhsky shopping center \"Volga Mall\"        4"
      ]
     },
     "execution_count": 5,
     "metadata": {},
     "output_type": "execute_result"
    }
   ],
   "source": [
    "shops.head()"
   ]
  },
  {
   "cell_type": "code",
   "execution_count": 24,
   "metadata": {},
   "outputs": [
    {
     "data": {
      "text/plain": [
       "array(['Moscow \"Sale\"', 'Moscow MTRC \"AFI MALL\"', 'Moscow Shop C21',\n",
       "       'Moscow TK \"Budenovsky\" (Pav.A2)',\n",
       "       'Moscow TK \"Budenovsky\" (Pav.K7)', 'Moscow TRK \"Atrium\"',\n",
       "       'Moscow TC \"Area\" (Belyaevo)', 'Moscow TC \"Mega White Dacha II\"',\n",
       "       'Moscow TC \"Mega Teply Stan\" II',\n",
       "       'Moscow shopping center \"New Century\" (Novokosino)',\n",
       "       'Moscow TP \"Perlovski\"', 'Moscow TC \"Semenovsky\"',\n",
       "       'Moscow shopping center \"Silver House\"', 'Mytishchi TRK \"XL-3\"',\n",
       "       'N.Novgorod TK \"Rio\"', 'N.Novgorod TPC \"Fantasy\"',\n",
       "       'Novosibirsk shopping center \"Gallery Novosibirsk\"',\n",
       "       'Novosibirsk Tc \"Mega\"', 'Omsk Tc \"Mega\"',\n",
       "       'Rostnone TRK \"Megacentr Horizont\"'], dtype=object)"
      ]
     },
     "execution_count": 24,
     "metadata": {},
     "output_type": "execute_result"
    }
   ],
   "source": [
    "shops.shop_name.unique()[20:40]"
   ]
  },
  {
   "cell_type": "markdown",
   "metadata": {
    "id": "q09Ptg7iR6_r"
   },
   "source": [
    "<br>In most of the cases 1st word on the shops names is a city:\n",
    "* Moscow\n",
    "* Rostnone\n",
    "* etc\n",
    "\n",
    "We are going to create a new feature with the city of a shop <br><br><br> Also, there are some shops that appear to be the same one:\n",
    "* \"Zhukovsky st. Chkalova 39m²\" --> \"Zhukovsky st. Chkalova 39m?\"\n",
    "* \"! Yakutsk Ordzhonikidze, 56 fran\" --> \"Yakutsk Ordzhonikidze, 56\"\n",
    "* \"! Yakutsk shopping center \"Central\" Fran\" --> \"Yakutsk shopping center \"Central\"\n",
    "* \"Rostnone TRK \"Megacentr Horizont\" --> \"Rostov on the Don TRK \"Megcenter Horizon\" island\"\n"
   ]
  },
  {
   "cell_type": "markdown",
   "metadata": {
    "id": "E55q6X4qR6_t"
   },
   "source": [
    "# TEST"
   ]
  },
  {
   "cell_type": "code",
   "execution_count": 186,
   "metadata": {
    "id": "jWVM6rh9R6_t",
    "outputId": "e18ad872-5c24-49cc-bada-901867282e03"
   },
   "outputs": [
    {
     "data": {
      "text/html": [
       "<div>\n",
       "<style scoped>\n",
       "    .dataframe tbody tr th:only-of-type {\n",
       "        vertical-align: middle;\n",
       "    }\n",
       "\n",
       "    .dataframe tbody tr th {\n",
       "        vertical-align: top;\n",
       "    }\n",
       "\n",
       "    .dataframe thead th {\n",
       "        text-align: right;\n",
       "    }\n",
       "</style>\n",
       "<table border=\"1\" class=\"dataframe\">\n",
       "  <thead>\n",
       "    <tr style=\"text-align: right;\">\n",
       "      <th></th>\n",
       "      <th>ID</th>\n",
       "      <th>shop_id</th>\n",
       "      <th>item_id</th>\n",
       "    </tr>\n",
       "  </thead>\n",
       "  <tbody>\n",
       "    <tr>\n",
       "      <th>0</th>\n",
       "      <td>0</td>\n",
       "      <td>5</td>\n",
       "      <td>5037</td>\n",
       "    </tr>\n",
       "    <tr>\n",
       "      <th>1</th>\n",
       "      <td>1</td>\n",
       "      <td>5</td>\n",
       "      <td>5320</td>\n",
       "    </tr>\n",
       "    <tr>\n",
       "      <th>2</th>\n",
       "      <td>2</td>\n",
       "      <td>5</td>\n",
       "      <td>5233</td>\n",
       "    </tr>\n",
       "    <tr>\n",
       "      <th>3</th>\n",
       "      <td>3</td>\n",
       "      <td>5</td>\n",
       "      <td>5232</td>\n",
       "    </tr>\n",
       "    <tr>\n",
       "      <th>4</th>\n",
       "      <td>4</td>\n",
       "      <td>5</td>\n",
       "      <td>5268</td>\n",
       "    </tr>\n",
       "  </tbody>\n",
       "</table>\n",
       "</div>"
      ],
      "text/plain": [
       "   ID  shop_id  item_id\n",
       "0   0        5     5037\n",
       "1   1        5     5320\n",
       "2   2        5     5233\n",
       "3   3        5     5232\n",
       "4   4        5     5268"
      ]
     },
     "execution_count": 186,
     "metadata": {},
     "output_type": "execute_result"
    }
   ],
   "source": [
    "test.head()"
   ]
  },
  {
   "cell_type": "code",
   "execution_count": 199,
   "metadata": {},
   "outputs": [
    {
     "name": "stdout",
     "output_type": "stream",
     "text": [
      "Min n° of items of a Shop: 5100\n",
      "Max n° of items of a Shop: 5100\n"
     ]
    }
   ],
   "source": [
    "print(f'Min n° of items of a Shop: {test.groupby(\"shop_id\").size().min()}\\n\\\n",
    "Max n° of items of a Shop: {test.groupby(\"shop_id\").size().max()}')"
   ]
  },
  {
   "cell_type": "code",
   "execution_count": 200,
   "metadata": {
    "id": "t-NbsSllR6_v",
    "outputId": "9d618181-a15e-44f5-901d-9868f7f88c4f"
   },
   "outputs": [
    {
     "data": {
      "text/plain": [
       "array([42], dtype=int64)"
      ]
     },
     "execution_count": 200,
     "metadata": {},
     "output_type": "execute_result"
    }
   ],
   "source": [
    "test.groupby(\"item_id\").size().sort_values().unique()"
   ]
  },
  {
   "cell_type": "code",
   "execution_count": 201,
   "metadata": {},
   "outputs": [
    {
     "data": {
      "text/plain": [
       "5100"
      ]
     },
     "execution_count": 201,
     "metadata": {},
     "output_type": "execute_result"
    }
   ],
   "source": [
    "test.item_id.nunique()"
   ]
  },
  {
   "cell_type": "markdown",
   "metadata": {
    "id": "J3OwtMQMR6_u"
   },
   "source": [
    "* Every Shop in the Test set has an instance for every 5100 items\n",
    "* It seems that Test an LB dataset might be kind of a Cartesian Product between all the Shops and all the Items"
   ]
  },
  {
   "cell_type": "markdown",
   "metadata": {
    "id": "maGZgD_kR6_w"
   },
   "source": [
    "# Sales trends"
   ]
  },
  {
   "cell_type": "code",
   "execution_count": 207,
   "metadata": {},
   "outputs": [
    {
     "data": {
      "text/plain": [
       "<AxesSubplot:xlabel='date_block_num'>"
      ]
     },
     "execution_count": 207,
     "metadata": {},
     "output_type": "execute_result"
    },
    {
     "data": {
      "image/png": "[encoded data removed]",
      "text/plain": [
       "<Figure size 1440x360 with 1 Axes>"
      ]
     },
     "metadata": {},
     "output_type": "display_data"
    }
   ],
   "source": [
    "sales.groupby(\"date_block_num\").agg({\"item_cnt_day\":\"sum\"}).plot(kind=\"bar\", figsize=(20,5))"
   ]
  },
  {
   "cell_type": "markdown",
   "metadata": {},
   "source": [
    "* There seems to be some kind of estationality on December"
   ]
  }
 ],
 "metadata": {
  "colab": {
   "name": "EDA.ipynb",
   "provenance": []
  },
  "kernelspec": {
   "display_name": "Python 3",
   "language": "python",
   "name": "python3"
  },
  "language_info": {
   "codemirror_mode": {
    "name": "ipython",
    "version": 3
   },
   "file_extension": ".py",
   "mimetype": "text/x-python",
   "name": "python",
   "nbconvert_exporter": "python",
   "pygments_lexer": "ipython3",
   "version": "3.7.3"
  }
 },
 "nbformat": 4,
 "nbformat_minor": 4
}
