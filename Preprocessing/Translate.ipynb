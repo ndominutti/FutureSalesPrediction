{
 "cells": [
  {
   "cell_type": "code",
   "execution_count": 24,
   "metadata": {
    "executionInfo": {
     "elapsed": 302,
     "status": "ok",
     "timestamp": 1622820607670,
     "user": {
      "displayName": "Nico Dominutti",
      "photoUrl": "",
      "userId": "09261720198340163845"
     },
     "user_tz": 180
    },
    "id": "EpZp7bdZh9jC"
   },
   "outputs": [],
   "source": [
    "#Here we install the translator library\n",
    "#!pip install google_trans_new"
   ]
  },
  {
   "cell_type": "code",
   "execution_count": 25,
   "metadata": {
    "executionInfo": {
     "elapsed": 23,
     "status": "ok",
     "timestamp": 1622820607988,
     "user": {
      "displayName": "Nico Dominutti",
      "photoUrl": "",
      "userId": "09261720198340163845"
     },
     "user_tz": 180
    },
    "id": "bTIPP_MC49C2"
   },
   "outputs": [],
   "source": [
    "from google_trans_new import google_translator\n",
    "import pandas as pd\n",
    "import numpy as np"
   ]
  },
  {
   "cell_type": "code",
   "execution_count": null,
   "metadata": {
    "id": "8pmKxZOencAX"
   },
   "outputs": [],
   "source": [
    "data_path = '..\\\\Data\\\\'\n",
    "item_categories  = pd.read_csv(data_path + 'item_categories.csv')\n",
    "shops            = pd.read_csv(data_path + 'shops_translated.csv')"
   ]
  },
  {
   "cell_type": "code",
   "execution_count": null,
   "metadata": {
    "executionInfo": {
     "elapsed": 481,
     "status": "aborted",
     "timestamp": 1622820608457,
     "user": {
      "displayName": "Nico Dominutti",
      "photoUrl": "",
      "userId": "09261720198340163845"
     },
     "user_tz": 180
    },
    "id": "nPGzTY_AeJ2a"
   },
   "outputs": [],
   "source": [
    "def translate(to_translate):\n",
    "\n",
    "    \"\"\"\n",
    "    Function to translate using google_translator library\n",
    "    \"\"\"\n",
    "    \n",
    "    translator = google_translator()\n",
    "    translations = []\n",
    "    for x in to_translate.unique():\n",
    "        translations.append(translator.translate(x).strip())\n",
    "        \n",
    "    return dict(zip(to_translate.unique(),np.array(translations)))"
   ]
  },
  {
   "cell_type": "code",
   "execution_count": null,
   "metadata": {
    "executionInfo": {
     "elapsed": 485,
     "status": "aborted",
     "timestamp": 1622820608463,
     "user": {
      "displayName": "Nico Dominutti",
      "photoUrl": "",
      "userId": "09261720198340163845"
     },
     "user_tz": 180
    },
    "id": "oRgeIgrciKGg"
   },
   "outputs": [],
   "source": [
    "# Item Categories translation\n",
    "translationsItemCateg = translate(item_categories.item_category_name)\n",
    "item_categories.item_category_name = item_categories.item_category_name.map(translationsItemCateg)\n",
    "item_categories.item_category_name = item_categories.item_category_name.str.strip()"
   ]
  },
  {
   "cell_type": "code",
   "execution_count": 37,
   "metadata": {
    "executionInfo": {
     "elapsed": 13708,
     "status": "ok",
     "timestamp": 1622820888795,
     "user": {
      "displayName": "Nico Dominutti",
      "photoUrl": "",
      "userId": "09261720198340163845"
     },
     "user_tz": 180
    },
    "id": "aRk4VTWYmrMT"
   },
   "outputs": [],
   "source": [
    "# Shops translation\n",
    "translationsShops = translate(shops.shop_name)\n",
    "shops.shop_name = shops.shop_name.map(translationsShops)\n",
    "shops.shop_name = shops.shop_name.str.strip()"
   ]
  },
  {
   "cell_type": "code",
   "execution_count": 39,
   "metadata": {
    "executionInfo": {
     "elapsed": 301,
     "status": "ok",
     "timestamp": 1622820898066,
     "user": {
      "displayName": "Nico Dominutti",
      "photoUrl": "",
      "userId": "09261720198340163845"
     },
     "user_tz": 180
    },
    "id": "KQ1-KJWdiiyF"
   },
   "outputs": [],
   "source": [
    "# Saving files\n",
    "item_categories.to_csv(data_path + 'item_categories_translated.csv')\n",
    "shops.to_csv(data_path + 'shops_translated.csv')"
   ]
  }
 ],
 "metadata": {
  "colab": {
   "authorship_tag": "ABX9TyMTrhTB4grKwhtLwRgvbTz0",
   "collapsed_sections": [],
   "name": "Translate.ipynb",
   "provenance": []
  },
  "kernelspec": {
   "display_name": "Python 3",
   "language": "python",
   "name": "python3"
  },
  "language_info": {
   "codemirror_mode": {
    "name": "ipython",
    "version": 3
   },
   "file_extension": ".py",
   "mimetype": "text/x-python",
   "name": "python",
   "nbconvert_exporter": "python",
   "pygments_lexer": "ipython3",
   "version": "3.7.3"
  }
 },
 "nbformat": 4,
 "nbformat_minor": 4
}
