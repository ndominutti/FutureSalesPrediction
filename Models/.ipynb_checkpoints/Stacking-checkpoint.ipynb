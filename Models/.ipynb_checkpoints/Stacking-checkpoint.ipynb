{
 "cells": [
  {
   "cell_type": "code",
   "execution_count": 1,
   "metadata": {
    "id": "kUhgnkQHSAJO"
   },
   "outputs": [],
   "source": [
    "import pandas as pd\n",
    "import numpy as np\n",
    "from sklearn.metrics import mean_squared_error, make_scorer\n",
    "from sklearn.linear_model import LinearRegression\n",
    "import gc\n",
    "import pickle\n",
    "import sys"
   ]
  },
  {
   "cell_type": "code",
   "execution_count": 2,
   "metadata": {
    "id": "hOlFphLzS2xU"
   },
   "outputs": [],
   "source": [
    "# WARNING: df_processed.pkl was not uploaded as it was a +500mb file (given to Github restrictions) \n",
    "# to excecute this training, generate the file with the Preprocessing/Preprocessing.ipynb file\n",
    "data_path = '..\\\\Data\\\\'\n",
    "df        = pd.read_pickle(data_path + 'df_processed.pkl')"
   ]
  },
  {
   "cell_type": "markdown",
   "metadata": {
    "id": "86-mEcvZWqN-"
   },
   "source": [
    "# Test Data"
   ]
  },
  {
   "cell_type": "code",
   "execution_count": 3,
   "metadata": {
    "id": "JwoFio1qWvH4"
   },
   "outputs": [],
   "source": [
    "#Note we train the stacked model on Validation set, as 1st layer models were already trained on Training data\n",
    "X_val = df[df[\"date_block_num\"]==33].drop(\"target\",axis=1)\n",
    "X_test  = df[df[\"date_block_num\"]==34].drop(\"target\",axis=1)\n",
    "\n",
    "y_val = df[df[\"date_block_num\"]==33].target.clip(0,20)"
   ]
  },
  {
   "cell_type": "code",
   "execution_count": 4,
   "metadata": {
    "id": "5LwYRaj5epZd"
   },
   "outputs": [],
   "source": [
    "del df\n",
    "gc.collect();"
   ]
  },
  {
   "cell_type": "markdown",
   "metadata": {
    "id": "e5jwSmfdWiXK"
   },
   "source": [
    "# Models"
   ]
  },
  {
   "cell_type": "code",
   "execution_count": 5,
   "metadata": {
    "id": "1-jtSPWL9-a4"
   },
   "outputs": [
    {
     "name": "stderr",
     "output_type": "stream",
     "text": [
      "C:\\Users\\NDominut\\AppData\\Local\\Continuum\\anaconda3\\lib\\site-packages\\dask\\dataframe\\utils.py:15: FutureWarning: pandas.util.testing is deprecated. Use the functions in the public API at pandas.testing instead.\n",
      "  import pandas.util.testing as tm\n"
     ]
    }
   ],
   "source": [
    "# Load lgbm\n",
    "lgbm = pickle.load(open('lgbm.pkl', 'rb'))"
   ]
  },
  {
   "cell_type": "code",
   "execution_count": 6,
   "metadata": {
    "id": "YQ2sC4rGEVIO"
   },
   "outputs": [],
   "source": [
    "# Load XGBoost\n",
    "xgb = pickle.load(open('xgb.pkl', 'rb'))"
   ]
  },
  {
   "cell_type": "code",
   "execution_count": 7,
   "metadata": {
    "id": "mUJ_CSygBhoz"
   },
   "outputs": [],
   "source": [
    "#Get Train & Test Meta data for 2nd layer\n",
    "lgbm_preds_val = lgbm.predict(X_val).clip(0,20)\n",
    "xgb_preds_val  = xgb.predict(X_val).clip(0,20)\n",
    "lgbm_preds_test = lgbm.predict(X_test).clip(0,20)\n",
    "xgb_preds_test  = xgb.predict(X_test).clip(0,20)\n",
    "\n",
    "val_meta_data = np.column_stack([lgbm_preds_val,xgb_preds_val])\n",
    "test_meta_data  = np.column_stack([lgbm_preds_test,xgb_preds_test])"
   ]
  },
  {
   "cell_type": "markdown",
   "metadata": {
    "id": "bTODnmGYX4UW"
   },
   "source": [
    "# Ensemble (Linear Regression)"
   ]
  },
  {
   "cell_type": "code",
   "execution_count": 8,
   "metadata": {
    "id": "7Ai6oQB4O3di"
   },
   "outputs": [],
   "source": [
    "lr = LinearRegression()"
   ]
  },
  {
   "cell_type": "code",
   "execution_count": 9,
   "metadata": {
    "colab": {
     "base_uri": "https://localhost:8080/"
    },
    "executionInfo": {
     "elapsed": 435,
     "status": "ok",
     "timestamp": 1622748718524,
     "user": {
      "displayName": "Nico Dominutti",
      "photoUrl": "",
      "userId": "09261720198340163845"
     },
     "user_tz": 180
    },
    "id": "oQdNGnI9O-CB",
    "outputId": "266c77ce-8ce7-434c-e8c4-b225e4f83ffd"
   },
   "outputs": [
    {
     "data": {
      "text/plain": [
       "LinearRegression()"
      ]
     },
     "execution_count": 9,
     "metadata": {},
     "output_type": "execute_result"
    }
   ],
   "source": [
    "lr.fit(val_meta_data, y_val)"
   ]
  },
  {
   "cell_type": "code",
   "execution_count": 10,
   "metadata": {
    "id": "MxEyIEGaPX-E"
   },
   "outputs": [],
   "source": [
    "submit = pd.DataFrame(lr.predict(test_meta_data).clip(0,20))\n",
    "submit.index.name = \"ID\"\n",
    "submit.rename(columns={0:\"item_cnt_month\"},inplace=True)"
   ]
  },
  {
   "cell_type": "code",
   "execution_count": 12,
   "metadata": {
    "id": "4gQGQL4JPkbj"
   },
   "outputs": [],
   "source": [
    "submit.to_csv(data_path + \"submit_stacked.csv\")"
   ]
  },
  {
   "cell_type": "markdown",
   "metadata": {
    "id": "MwwcSg7-Xspm"
   },
   "source": [
    "LB Score: 0.90843"
   ]
  }
 ],
 "metadata": {
  "accelerator": "GPU",
  "colab": {
   "authorship_tag": "ABX9TyM3iQkmCEs0AMiF+Oq7p2kX",
   "collapsed_sections": [],
   "name": "Stacking.ipynb",
   "provenance": []
  },
  "kernelspec": {
   "display_name": "Python 3",
   "language": "python",
   "name": "python3"
  },
  "language_info": {
   "codemirror_mode": {
    "name": "ipython",
    "version": 3
   },
   "file_extension": ".py",
   "mimetype": "text/x-python",
   "name": "python",
   "nbconvert_exporter": "python",
   "pygments_lexer": "ipython3",
   "version": "3.7.3"
  }
 },
 "nbformat": 4,
 "nbformat_minor": 4
}
