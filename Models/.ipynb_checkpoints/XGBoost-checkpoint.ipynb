{
 "cells": [
  {
   "cell_type": "code",
   "execution_count": 2,
   "metadata": {
    "executionInfo": {
     "elapsed": 745,
     "status": "ok",
     "timestamp": 1622745676576,
     "user": {
      "displayName": "Nico Dominutti",
      "photoUrl": "",
      "userId": "09261720198340163845"
     },
     "user_tz": 180
    },
    "id": "kUhgnkQHSAJO"
   },
   "outputs": [],
   "source": [
    "import pandas as pd\n",
    "import numpy as np\n",
    "from sklearn.metrics import mean_squared_error, make_scorer\n",
    "from xgboost import XGBRegressor\n",
    "import gc\n",
    "import pickle\n",
    "import sys"
   ]
  },
  {
   "cell_type": "code",
   "execution_count": null,
   "metadata": {},
   "outputs": [],
   "source": [
    "# Colab's auth importing\n",
    "#from pydrive.auth import GoogleAuth\n",
    "#from pydrive.drive import GoogleDrive\n",
    "#from google.colab import auth, files\n",
    "#from oauth2client.client import GoogleCredentials\n",
    "\n",
    "# Colab's auth \n",
    "#auth.authenticate_user()\n",
    "#gauth = GoogleAuth()\n",
    "#gauth.credentials = GoogleCredentials.get_application_default()\n",
    "#drive = GoogleDrive(gauth)\n",
    "\n",
    "#Colab's file reading\n",
    "#id_dataset = <sharing id of the drive file>\n",
    "#data = drive.CreateFile({'id':id_dataset})   \n",
    "#data.GetContentFile('df_processed.pkl')\n",
    "#df = pd.read_pickle('df_processed.pkl')"
   ]
  },
  {
   "cell_type": "code",
   "execution_count": 5,
   "metadata": {
    "executionInfo": {
     "elapsed": 750,
     "status": "ok",
     "timestamp": 1622745705399,
     "user": {
      "displayName": "Nico Dominutti",
      "photoUrl": "",
      "userId": "09261720198340163845"
     },
     "user_tz": 180
    },
    "id": "pGjeqfqPTRUF"
   },
   "outputs": [],
   "source": [
    "# WARNING: df_processed.pkl was not uploaded as it was a +500mb file (given to Github restrictions) \n",
    "# to excecute this training, generate the file with the Preprocessing/Preprocessing.ipynb file\n",
    "data_path = '..\\\\Data\\\\'\n",
    "df        = pd.read_pickle(\"df_processed.pkl\")"
   ]
  },
  {
   "cell_type": "markdown",
   "metadata": {
    "id": "86-mEcvZWqN-"
   },
   "source": [
    "# Train / Validation"
   ]
  },
  {
   "cell_type": "code",
   "execution_count": 6,
   "metadata": {
    "executionInfo": {
     "elapsed": 2723,
     "status": "ok",
     "timestamp": 1622745708114,
     "user": {
      "displayName": "Nico Dominutti",
      "photoUrl": "",
      "userId": "09261720198340163845"
     },
     "user_tz": 180
    },
    "id": "JwoFio1qWvH4"
   },
   "outputs": [],
   "source": [
    "X_train = df[df[\"date_block_num\"]<33].drop(\"target\",axis=1)\n",
    "X_val   = df[df[\"date_block_num\"]==33].drop(\"target\",axis=1)\n",
    "X_test  = df[df[\"date_block_num\"]==34].drop(\"target\",axis=1)\n",
    "\n",
    "y_train = df[df[\"date_block_num\"]<33].target\n",
    "y_val   = df[df[\"date_block_num\"]==33].target"
   ]
  },
  {
   "cell_type": "code",
   "execution_count": 7,
   "metadata": {
    "executionInfo": {
     "elapsed": 23,
     "status": "ok",
     "timestamp": 1622745708116,
     "user": {
      "displayName": "Nico Dominutti",
      "photoUrl": "",
      "userId": "09261720198340163845"
     },
     "user_tz": 180
    },
    "id": "5LwYRaj5epZd"
   },
   "outputs": [],
   "source": [
    "del df\n",
    "gc.collect();"
   ]
  },
  {
   "cell_type": "markdown",
   "metadata": {
    "id": "e5jwSmfdWiXK"
   },
   "source": [
    "# XGBOOST"
   ]
  },
  {
   "cell_type": "code",
   "execution_count": 8,
   "metadata": {
    "executionInfo": {
     "elapsed": 21,
     "status": "ok",
     "timestamp": 1622745708118,
     "user": {
      "displayName": "Nico Dominutti",
      "photoUrl": "",
      "userId": "09261720198340163845"
     },
     "user_tz": 180
    },
    "id": "-qmak_D_Wo1t"
   },
   "outputs": [],
   "source": [
    "xgb_params = {\n",
    "    'lambda': np.linspace(0,0.5), \n",
    "    'gamma': np.linspace(0,0.5),\n",
    "    'alpha': np.linspace(0,0.5),\n",
    "    'objective': ['reg:squarederror'],\n",
    "    'colsample_bytree': np.linspace(0.7,0.99),\n",
    "    'subsample': np.linspace(0.7,0.99), \n",
    "    'min_child_weight': range(10),\n",
    "    'eta': np.linspace(0,0.1),\n",
    "    'learning_rate': np.linspace(0.01,0.08),\n",
    "    'n_estimators': range(50,500,50),\n",
    "    'max_depth': range(4,9),\n",
    "    'tree_method': ['gpu_hist'], #Comment this line if you don't train on a GPU\n",
    "    'verbosity':[2],\n",
    "    'nthread':[0]\n",
    "}"
   ]
  },
  {
   "cell_type": "code",
   "execution_count": 9,
   "metadata": {
    "colab": {
     "base_uri": "https://localhost:8080/"
    },
    "executionInfo": {
     "elapsed": 1731689,
     "status": "ok",
     "timestamp": 1622747439793,
     "user": {
      "displayName": "Nico Dominutti",
      "photoUrl": "",
      "userId": "09261720198340163845"
     },
     "user_tz": 180
    },
    "id": "F3cTYN8gvWGq",
    "outputId": "e6e66780-4db9-456d-a7f1-f073b603227e"
   },
   "outputs": [
    {
     "name": "stdout",
     "output_type": "stream",
     "text": [
      "Iteration: 1\n",
      "> Train Score: 0.8440886735916138\n",
      "> Validation Score: 0.8019803166389465\n",
      "...............................\n",
      "Iteration: 2\n",
      "> Train Score: 0.7844635844230652\n",
      "> Validation Score: 0.8049607872962952\n",
      "...............................\n",
      "Iteration: 3\n",
      "> Train Score: 0.8872243762016296\n",
      "> Validation Score: 0.8198109865188599\n",
      "...............................\n",
      "Iteration: 4\n",
      "> Train Score: 0.8427047729492188\n",
      "> Validation Score: 0.8026437163352966\n",
      "...............................\n",
      "Iteration: 5\n",
      "> Train Score: 0.8465012311935425\n",
      "> Validation Score: 0.8015182614326477\n",
      "...............................\n",
      "Iteration: 6\n",
      "> Train Score: 0.8642865419387817\n",
      "> Validation Score: 0.8072331547737122\n",
      "...............................\n",
      "Iteration: 7\n",
      "> Train Score: 0.8593423366546631\n",
      "> Validation Score: 0.806428849697113\n",
      "...............................\n",
      "Iteration: 8\n",
      "> Train Score: 0.8483254909515381\n",
      "> Validation Score: 0.8018239140510559\n",
      "...............................\n",
      "Iteration: 9\n",
      "> Train Score: 0.8419557213783264\n",
      "> Validation Score: 0.8001828193664551\n",
      "...............................\n",
      "Iteration: 10\n",
      "> Train Score: 0.9523438811302185\n",
      "> Validation Score: 0.8638832569122314\n",
      "...............................\n",
      "Iteration: 11\n",
      "> Train Score: 0.8046835660934448\n",
      "> Validation Score: 0.7984155416488647\n",
      "...............................\n",
      "Iteration: 12\n",
      "> Train Score: 0.8149977326393127\n",
      "> Validation Score: 0.7990508079528809\n",
      "...............................\n",
      "Iteration: 13\n",
      "> Train Score: 0.8562819361686707\n",
      "> Validation Score: 0.8039999008178711\n",
      "...............................\n",
      "Iteration: 14\n",
      "> Train Score: 0.897805392742157\n",
      "> Validation Score: 0.8268413543701172\n",
      "...............................\n",
      "Iteration: 15\n",
      "> Train Score: 0.8779422044754028\n",
      "> Validation Score: 0.812745988368988\n",
      "...............................\n",
      "Iteration: 16\n",
      "> Train Score: 0.894848108291626\n",
      "> Validation Score: 0.8242541551589966\n",
      "...............................\n",
      "Iteration: 17\n",
      "> Train Score: 0.8038299679756165\n",
      "> Validation Score: 0.8000448942184448\n",
      "...............................\n",
      "Iteration: 18\n",
      "> Train Score: 0.8543756008148193\n",
      "> Validation Score: 0.805069625377655\n",
      "...............................\n",
      "Iteration: 19\n",
      "> Train Score: 0.876319169998169\n",
      "> Validation Score: 0.8121777772903442\n",
      "...............................\n",
      "Iteration: 20\n",
      "> Train Score: 0.8611379861831665\n",
      "> Validation Score: 0.8089783191680908\n",
      "...............................\n",
      "Iteration: 21\n",
      "> Train Score: 0.8555412888526917\n",
      "> Validation Score: 0.8041501641273499\n",
      "...............................\n",
      "Iteration: 22\n",
      "> Train Score: 0.8716206550598145\n",
      "> Validation Score: 0.812333881855011\n",
      "...............................\n",
      "Iteration: 23\n",
      "> Train Score: 0.8563686013221741\n",
      "> Validation Score: 0.8039072155952454\n",
      "...............................\n",
      "Iteration: 24\n",
      "> Train Score: 0.8505813479423523\n",
      "> Validation Score: 0.8024089336395264\n",
      "...............................\n",
      "Iteration: 25\n",
      "> Train Score: 0.9225240349769592\n",
      "> Validation Score: 0.8412551879882812\n",
      "...............................\n",
      "Iteration: 26\n",
      "> Train Score: 0.8728955984115601\n",
      "> Validation Score: 0.8091229796409607\n",
      "...............................\n",
      "Iteration: 27\n",
      "> Train Score: 0.8573582768440247\n",
      "> Validation Score: 0.8050251007080078\n",
      "...............................\n",
      "Iteration: 28\n",
      "> Train Score: 0.8614829778671265\n",
      "> Validation Score: 0.8071266412734985\n",
      "...............................\n",
      "Iteration: 29\n",
      "> Train Score: 0.8654460310935974\n",
      "> Validation Score: 0.8094335794448853\n",
      "...............................\n",
      "Iteration: 30\n",
      "> Train Score: 0.7917027473449707\n",
      "> Validation Score: 0.7983563542366028\n",
      "...............................\n",
      "Iteration: 31\n",
      "> Train Score: 0.8623673915863037\n",
      "> Validation Score: 0.8054293394088745\n",
      "...............................\n",
      "Iteration: 32\n",
      "> Train Score: 0.7848752737045288\n",
      "> Validation Score: 0.8018035292625427\n",
      "...............................\n",
      "Iteration: 33\n",
      "> Train Score: 0.8515851497650146\n",
      "> Validation Score: 0.8050917387008667\n",
      "...............................\n",
      "Iteration: 34\n",
      "> Train Score: 0.8713891506195068\n",
      "> Validation Score: 0.8112468123435974\n",
      "...............................\n",
      "Iteration: 35\n",
      "> Train Score: 0.8630337715148926\n",
      "> Validation Score: 0.8083765506744385\n",
      "...............................\n",
      "Iteration: 36\n",
      "> Train Score: 0.8545134663581848\n",
      "> Validation Score: 0.8065006732940674\n",
      "...............................\n",
      "Iteration: 37\n",
      "> Train Score: 0.8233339786529541\n",
      "> Validation Score: 0.7982402443885803\n",
      "...............................\n",
      "Iteration: 38\n",
      "> Train Score: 0.8123601675033569\n",
      "> Validation Score: 0.7989757657051086\n",
      "...............................\n",
      "Iteration: 39\n",
      "> Train Score: 0.7454779148101807\n",
      "> Validation Score: 0.8104107975959778\n",
      "...............................\n",
      "Iteration: 40\n",
      "> Train Score: 0.8803638219833374\n",
      "> Validation Score: 0.8147468566894531\n",
      "...............................\n",
      "Iteration: 41\n",
      "> Train Score: 0.8572924733161926\n",
      "> Validation Score: 0.8049098253250122\n",
      "...............................\n",
      "Iteration: 42\n",
      "> Train Score: 0.8646780252456665\n",
      "> Validation Score: 0.8068395853042603\n",
      "...............................\n",
      "Iteration: 43\n",
      "> Train Score: 0.8817968964576721\n",
      "> Validation Score: 0.8158536553382874\n",
      "...............................\n",
      "Iteration: 44\n",
      "> Train Score: 0.8630468845367432\n",
      "> Validation Score: 0.8080084919929504\n",
      "...............................\n",
      "Iteration: 45\n",
      "> Train Score: 0.8638043999671936\n",
      "> Validation Score: 0.8084523677825928\n",
      "...............................\n",
      "Iteration: 46\n",
      "> Train Score: 0.8626511096954346\n",
      "> Validation Score: 0.8087103366851807\n",
      "...............................\n",
      "Iteration: 47\n",
      "> Train Score: 0.8155364990234375\n",
      "> Validation Score: 0.7972531914710999\n",
      "...............................\n",
      "Iteration: 48\n",
      "> Train Score: 0.8476359248161316\n",
      "> Validation Score: 0.8030341267585754\n",
      "...............................\n",
      "Iteration: 49\n",
      "> Train Score: 0.9193055629730225\n",
      "> Validation Score: 0.8384835720062256\n",
      "...............................\n",
      "Iteration: 50\n",
      "> Train Score: 0.8429954051971436\n",
      "> Validation Score: 0.8039939403533936\n",
      "...............................\n"
     ]
    }
   ],
   "source": [
    "# Randomized Search to tune model params\n",
    "\n",
    "# Give init values that will be discarted\n",
    "xgb_randomized_search = {\"PARAMS\":[\"a\"],\"TRAIN_SCORE\":[999], \"VAL_SCORE\":[999]}\n",
    "\n",
    "# Create 51 distinct models\n",
    "n_iter = 50\n",
    "best_model = []\n",
    "for i in range(n_iter):\n",
    "    print(f\"Iteration: {i+1}\")\n",
    "    params = {}\n",
    "    #Create the random params grid\n",
    "    for x,y in xgb_params.items():\n",
    "        np.random.seed = 42\n",
    "        params[x] = np.random.choice(y)\n",
    "\n",
    "    # Train XGBoost\n",
    "    xgb = XGBRegressor(**params)\n",
    "    xgb.fit(X_train,y_train)\n",
    "    # Evaluating\n",
    "    train_score = np.sqrt(mean_squared_error(y_train,xgb.predict(X_train)))\n",
    "    val_score   = np.sqrt(mean_squared_error(y_val,xgb.predict(X_val)))\n",
    "    # Save the Best Model\n",
    "    if val_score < min(xgb_randomized_search[\"VAL_SCORE\"]):\n",
    "    best_model = xgb\n",
    "    # Append values to the status file\n",
    "    xgb_randomized_search[\"PARAMS\"].append(params)\n",
    "    xgb_randomized_search[\"TRAIN_SCORE\"].append(train_score)\n",
    "    xgb_randomized_search[\"VAL_SCORE\"].append(val_score)\n",
    "    print(f\"> Train Score: {train_score}\\n> Validation Score: {val_score}\")\n",
    "    print(\"...............................\")\n",
    "    # Garbage collection to save space on disk\n",
    "    del xgb, train_score, val_score\n",
    "    gc.collect();\n",
    "\n",
    "xgb_randomized_search = pd.DataFrame(xgb_randomized_search).drop(0)"
   ]
  },
  {
   "cell_type": "code",
   "execution_count": 10,
   "metadata": {
    "colab": {
     "base_uri": "https://localhost:8080/",
     "height": 618
    },
    "executionInfo": {
     "elapsed": 1290,
     "status": "ok",
     "timestamp": 1622747441048,
     "user": {
      "displayName": "Nico Dominutti",
      "photoUrl": "",
      "userId": "09261720198340163845"
     },
     "user_tz": 180
    },
    "id": "FrAOQcsv2stR",
    "outputId": "53730116-2247-4fc1-d03f-095a2c64225f"
   },
   "outputs": [
    {
     "name": "stderr",
     "output_type": "stream",
     "text": [
      "/usr/local/lib/python3.7/dist-packages/seaborn/_decorators.py:43: FutureWarning: Pass the following variables as keyword args: x, y. From version 0.12, the only valid positional argument will be `data`, and passing other arguments without an explicit keyword will result in an error or misinterpretation.\n",
      "  FutureWarning\n"
     ]
    },
    {
     "data": {
      "image/png": "[encoded data removed]",
      "text/plain": [
       "<Figure size 1080x288 with 1 Axes>"
      ]
     },
     "metadata": {
      "needs_background": "light",
      "tags": []
     },
     "output_type": "display_data"
    }
   ],
   "source": [
    "#Check best_model's feature importance\n",
    "\n",
    "import seaborn as sns\n",
    "import matplotlib.pyplot as plt\n",
    "feat_importance = pd.DataFrame(best_model.feature_importances_/best_model.feature_importances_.sum()\\\n",
    "                                        , index=X_train.columns).sort_values(by=0,ascending=False)\n",
    "plt.figure(figsize=(15,4))\n",
    "sns.barplot(feat_importance.index, feat_importance[0])\n",
    "plt.xticks(rotation=90);"
   ]
  },
  {
   "cell_type": "code",
   "execution_count": 11,
   "metadata": {
    "colab": {
     "base_uri": "https://localhost:8080/"
    },
    "executionInfo": {
     "elapsed": 837,
     "status": "ok",
     "timestamp": 1622747441830,
     "user": {
      "displayName": "Nico Dominutti",
      "photoUrl": "",
      "userId": "09261720198340163845"
     },
     "user_tz": 180
    },
    "id": "lsS0lUkP2HzF",
    "outputId": "f5aeb04f-f38b-40dd-f6d2-7722b48e1b19"
   },
   "outputs": [
    {
     "name": "stdout",
     "output_type": "stream",
     "text": [
      "Uploading file: xgb.pkl\n"
     ]
    }
   ],
   "source": [
    "# Save Model and Status file\n",
    "best_model.to_pickle(data_path + 'xgb.pkl')\n",
    "xgb_randomized_search.to_csv(data_path + 'xgb_randomized_search.csv')"
   ]
  }
 ],
 "metadata": {
  "accelerator": "GPU",
  "colab": {
   "authorship_tag": "ABX9TyNWV9pvdcHa1FuIM5h4z7pd",
   "collapsed_sections": [],
   "name": "XGBoost.ipynb",
   "provenance": [],
   "toc_visible": true
  },
  "kernelspec": {
   "display_name": "Python 3",
   "language": "python",
   "name": "python3"
  },
  "language_info": {
   "codemirror_mode": {
    "name": "ipython",
    "version": 3
   },
   "file_extension": ".py",
   "mimetype": "text/x-python",
   "name": "python",
   "nbconvert_exporter": "python",
   "pygments_lexer": "ipython3",
   "version": "3.7.3"
  }
 },
 "nbformat": 4,
 "nbformat_minor": 4
}
